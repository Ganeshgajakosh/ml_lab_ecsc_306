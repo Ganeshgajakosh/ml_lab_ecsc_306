{
 "cells": [
  {
   "cell_type": "markdown",
   "metadata": {
    "slideshow": {
     "slide_type": "slide"
    }
   },
   "source": [
    "## Assignment for Lab1\n",
    "\n",
    "\n",
    "\n",
    "### Write the program to generate tensorboard graph for below equations. \n",
    "##### The code and images should be uploaded to your own repository\n",
    "\n"
   ]
  },
  {
   "cell_type": "code",
   "execution_count": 2,
   "metadata": {},
   "outputs": [
    {
     "name": "stdout",
     "output_type": "stream",
     "text": [
      "4\n"
     ]
    }
   ],
   "source": [
    "#(a−b)2=a2+b2−2ab\n",
    "\n",
    "import tensorflow as tf\n",
    "a=4\n",
    "b=2\n",
    "\n",
    "\n",
    "with tf.name_scope(\"lab1_assgn1\"):\n",
    "    with tf.name_scope(\"Scope_A\"):\n",
    "        x = tf.multiply(a, a)\n",
    "        y = tf.multiply(b, b)\n",
    "    with tf.name_scope(\"Scope_B\"):\n",
    "        z = tf.multiply(2, a)\n",
    "        h = tf.multiply(z, b)\n",
    "\n",
    "with tf.name_scope(\"Scope_C\"):\n",
    "    d = tf.add(x, y)\n",
    "    s = tf.subtract(d, h)\n",
    "\n",
    "\n",
    "\n",
    "with tf.Session() as sess:\n",
    "    writer = tf.summary.FileWriter(\"/tmp/tboard/output4\", sess.graph)\n",
    "    print(sess.run(s))\n",
    "    writer.close()\n"
   ]
  },
  {
   "cell_type": "code",
   "execution_count": 5,
   "metadata": {},
   "outputs": [
    {
     "name": "stdout",
     "output_type": "stream",
     "text": [
      "576\n"
     ]
    }
   ],
   "source": [
    "#(a3+b3)=(a+b)(a2−ab+b2)\n",
    "\n",
    "import tensorflow as tf\n",
    "v1=tf.constant(8)\n",
    "v2=tf.constant(4)\n",
    "with tf.name_scope(\"MyOperationGroup\"):\n",
    "    with tf.name_scope(\"Scope_A\"):\n",
    "        a = tf.multiply(v1,v1)\n",
    "        b = tf.multiply(v2,v2)  \n",
    "with tf.name_scope(\"Scope_B\"):\n",
    "    c = tf.add(a, b, name=\"And_These_ones\")\n",
    "    d = tf.multiply(v1, v2, name=\"Multiply_these_numbers\")\n",
    "\n",
    "with tf.name_scope(\"Scope_C\"):\n",
    "    e=tf.subtract(c,d, name=\"subtrating\")\n",
    "   \n",
    "    f=tf.add(v1,v2)\n",
    "   \n",
    "with tf.name_scope(\"Scope_D\"):\n",
    "    g = tf.multiply(f,e)\n",
    "\n",
    "\n",
    "with tf.Session() as lb2:\n",
    "    writer = tf.summary.FileWriter(\"/tmp/tboard/output5\", lb2.graph)\n",
    "    print(lb2.run(g))\n",
    "    writer.close()"
   ]
  },
  {
   "cell_type": "markdown",
   "metadata": {
    "slideshow": {
     "slide_type": "slide"
    }
   },
   "source": [
    "## Slot : A1\n",
    "\n",
    "1. $$ (a+b)^2 = a^2 + b^2 + 2ab $$\n",
    "2. $$ (a+b+c)^2 = a^2 + b^2 + 2ab +2bc + 2ca $$\n",
    "\n",
    "\n",
    "## Slot : A2\n",
    "\n",
    "1. $$ (a-b)^2 = a^2 + b^2 - 2ab $$\n",
    "2. $$ (a^3+ b^3) = (a+b)(a^2 -ab + b^2) $$\n",
    "\n",
    "\n",
    "\n",
    "## Slot : B1\n",
    "\n",
    "1. $$ (a+b)^2 = a^2 + b^2 + 2ab $$\n",
    "2. $$ (a^3 - b^3) = (a- b)(a^2 + ab + b^2) $$\n",
    "\n",
    "## Slot : B2\n",
    "\n",
    "1. $$ (a-b)^2 = a^2 + b^2 - 2ab $$\n",
    "2. $$ (a-b-c)^2 = a^2 + b^2  + c^2 -2ab -2ca + 2bc $$\n",
    "\n",
    "\n",
    "## Slot : C1\n",
    "\n",
    "1. $$ (a+b)^2 = a^2 + b^2 + 2ab $$\n",
    "2. $$ (a-b+c) ^2 =  a^2 +b^2 + c^2 -2xy -2yz + 2xz$$\n",
    "\n",
    "\n",
    "\n",
    "## Slot : C2\n",
    "\n",
    "1. $$ (a-b)^2 = a^2 + b^2 - 2ab $$\n",
    "2. $$ (a+b)^3 = a^3 + b^3 + 3ab(a+b) $$\n",
    "\n",
    "## Slot D1\n",
    "1. $$ (a+b)^2 = a^2 + b^2 + 2ab $$\n",
    "2. $$ (a-b)^3 = a^3 - b^3 + 3ab(a-b) $$\n",
    "\n",
    "## Slot D2\n",
    "1. $$ (a-b)^2 = a^2 + b^2 - 2ab $$\n",
    "2. $$ (a + b-c) ^2 = a^2 + b^2 + c^2 + 2xy -2yz -2xz $$\n"
   ]
  }
 ],
 "metadata": {
  "celltoolbar": "Slideshow",
  "kernelspec": {
   "display_name": "Python 3",
   "language": "python",
   "name": "python3"
  },
  "language_info": {
   "codemirror_mode": {
    "name": "ipython",
    "version": 3
   },
   "file_extension": ".py",
   "mimetype": "text/x-python",
   "name": "python",
   "nbconvert_exporter": "python",
   "pygments_lexer": "ipython3",
   "version": "3.6.1"
  }
 },
 "nbformat": 4,
 "nbformat_minor": 2
}
