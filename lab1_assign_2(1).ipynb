{
 "cells": [
  {
   "cell_type": "code",
   "execution_count": null,
   "metadata": {
    "collapsed": true,
    "slideshow": {
     "slide_type": "slide"
    }
   },
   "outputs": [],
   "source": [
    "# Write a program using tensorflow to calculate : \n",
    "    $$y=mx+c$$"
   ]
  },
  {
   "cell_type": "markdown",
   "metadata": {
    "slideshow": {
     "slide_type": "slide"
    }
   },
   "source": [
    "### Part 1\n",
    "\n",
    "1. Read 2 arrays x,y containing floating point values\n",
    "2. Calculate mean of x & y\n",
    "3. Calculate variance for x\n",
    "    $$variance(x)=sum((x-mean(x))^2)$$\n",
    "4. Calculate covariance of x & y\n",
    "    $$covariance = sum((x(i) - mean(x)) * (y(i) - mean(y)))$$\n",
    "5. Calculate value of c\n",
    "    $$c = covariance(x,y)/variance(x)$$\n",
    "6. Calculate value of m\n",
    "    $$m = mean(y) -c* mean(x)$$\n",
    "    "
   ]
  },
  {
   "cell_type": "code",
   "execution_count": 68,
   "metadata": {},
   "outputs": [
    {
     "name": "stdout",
     "output_type": "stream",
     "text": [
      "mean 12.38\n"
     ]
    }
   ],
   "source": [
    "import tensorflow as tf\n",
    "\n",
    "with tf.name_scope(\"var\"):\n",
    "    with tf.name_scope(\"mean_x\"):\n",
    "        a=tf.constant([5.0,7.0,20.2,17.32],shape=[1,4],name='a')\n",
    "        b=tf.constant([7.0,9.0,19.0,18.0],shape=[1,4],name='b')\n",
    "        x=tf.reduce_mean(a)\n",
    "        sess=tf.Session()\n",
    "print(\"mean\",sess.run(x))\n",
    "\n",
    "\n",
    "#mean x"
   ]
  },
  {
   "cell_type": "code",
   "execution_count": 69,
   "metadata": {},
   "outputs": [
    {
     "name": "stdout",
     "output_type": "stream",
     "text": [
      "mean 13.25\n"
     ]
    }
   ],
   "source": [
    "#mean of y\n",
    "\n",
    "with tf.name_scope(\"mean_y\"):\n",
    "    y=tf.reduce_mean(b)\n",
    "    sess=tf.Session()\n",
    "print(\"mean\",sess.run(y))\n"
   ]
  },
  {
   "cell_type": "code",
   "execution_count": 70,
   "metadata": {},
   "outputs": [
    {
     "name": "stdout",
     "output_type": "stream",
     "text": [
      "[[-7.38000011 -5.38000011  7.82000065  4.93999958]]\n",
      "168.965\n"
     ]
    }
   ],
   "source": [
    "#variance of x\n",
    "d=tf.subtract(a,x)\n",
    "sess=tf.Session()\n",
    "print(sess.run(d ))\n",
    "\n",
    "e=tf.square(d)\n",
    "f=tf.reduce_sum(e)\n",
    "sess=tf.Session()\n",
    "print(sess.run(f))\n"
   ]
  },
  {
   "cell_type": "code",
   "execution_count": 71,
   "metadata": {},
   "outputs": [
    {
     "name": "stdout",
     "output_type": "stream",
     "text": [
      "137.42\n"
     ]
    }
   ],
   "source": [
    "#covariance\n",
    "with tf.name_scope(\"covariance\"):\n",
    "    g=tf.subtract(b,y)\n",
    "    sess=tf.Session()\n",
    "    g=tf.multiply(d,g)\n",
    "    h=tf.reduce_sum(g)\n",
    "print(sess.run(h))\n",
    "\n"
   ]
  },
  {
   "cell_type": "code",
   "execution_count": 72,
   "metadata": {},
   "outputs": [
    {
     "name": "stdout",
     "output_type": "stream",
     "text": [
      "0.813305\n"
     ]
    }
   ],
   "source": [
    "#value of c\n",
    "with tf.name_scope(\"value_of_c\"):\n",
    "    j=tf.divide(h,f)\n",
    "print(sess.run(j))\n"
   ]
  },
  {
   "cell_type": "code",
   "execution_count": 73,
   "metadata": {},
   "outputs": [
    {
     "name": "stdout",
     "output_type": "stream",
     "text": [
      "0.813305\n"
     ]
    }
   ],
   "source": [
    "#m value\n",
    "with tf.name_scope(\"value_m\"):\n",
    "    i=tf.multiply(j,x)\n",
    "    k=tf.subtract(y,i)\n",
    "print(sess.run(j))"
   ]
  },
  {
   "cell_type": "markdown",
   "metadata": {
    "slideshow": {
     "slide_type": "slide"
    }
   },
   "source": [
    "### Part 2\n",
    "\n",
    "1. Plot graph for actual values against predicted value\n",
    "2. Calculate root mean square error."
   ]
  },
  {
   "cell_type": "code",
   "execution_count": 76,
   "metadata": {},
   "outputs": [],
   "source": [
    "with tf.Session() as lb:\n",
    "    Writer =tf.summary.FileWriter(\"/tmp/tboard/output3\",lb.graph)\n",
    "    Writer.close()"
   ]
  },
  {
   "cell_type": "code",
   "execution_count": null,
   "metadata": {
    "collapsed": true
   },
   "outputs": [],
   "source": []
  },
  {
   "cell_type": "code",
   "execution_count": null,
   "metadata": {
    "collapsed": true
   },
   "outputs": [],
   "source": []
  }
 ],
 "metadata": {
  "celltoolbar": "Slideshow",
  "kernelspec": {
   "display_name": "Python 3",
   "language": "python",
   "name": "python3"
  },
  "language_info": {
   "codemirror_mode": {
    "name": "ipython",
    "version": 3
   },
   "file_extension": ".py",
   "mimetype": "text/x-python",
   "name": "python",
   "nbconvert_exporter": "python",
   "pygments_lexer": "ipython3",
   "version": "3.6.1"
  }
 },
 "nbformat": 4,
 "nbformat_minor": 2
}
