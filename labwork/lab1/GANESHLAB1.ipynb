{
 "cells": [
  {
   "cell_type": "code",
   "execution_count": 22,
   "metadata": {},
   "outputs": [
    {
     "name": "stdout",
     "output_type": "stream",
     "text": [
      "mean X 12.38\n",
      "mean Y 13.25\n",
      "[[-7.38000011 -5.38000011  7.82000065  4.93999958]]\n",
      "variance 168.965\n",
      "covariance 137.42\n",
      "value c 0.813305\n",
      "value m 0.813305\n",
      "rmse 5.30919\n"
     ]
    }
   ],
   "source": [
    "import tensorflow as tf\n",
    "\n",
    "with tf.name_scope(\"var\"):\n",
    "    with tf.name_scope(\"mean_x\"):\n",
    "        a=tf.constant([5.0,7.0,20.2,17.32],shape=[1,4],name='a')\n",
    "        b=tf.constant([7.0,9.0,19.0,18.0],shape=[1,4],name='b')\n",
    "        x=tf.reduce_mean(a)\n",
    "        sess=tf.Session()\n",
    "print(\"mean X\",sess.run(x))\n",
    "\n",
    "\n",
    "\n",
    "#mean of y\n",
    "\n",
    "with tf.name_scope(\"mean_y\"):\n",
    "    y=tf.reduce_mean(b)\n",
    "    sess=tf.Session()\n",
    "print(\"mean Y\",sess.run(y))\n",
    "\n",
    "\n",
    "\n",
    "#variance of x\n",
    "d=tf.subtract(a,x)\n",
    "sess=tf.Session()\n",
    "print(sess.run(d))\n",
    "\n",
    "e=tf.square(d)\n",
    "f=tf.reduce_sum(e)\n",
    "sess=tf.Session()\n",
    "print(\"variance\",sess.run(f))\n",
    "\n",
    "\n",
    "#covariance\n",
    "with tf.name_scope(\"covariance\"):\n",
    "    g=tf.subtract(b,y)\n",
    "    sess=tf.Session()\n",
    "    g=tf.multiply(d,g)\n",
    "    h=tf.reduce_sum(g)\n",
    "print(\"covariance\",sess.run(h))\n",
    "\n",
    "\n",
    "\n",
    "#value of c\n",
    "with tf.name_scope(\"value_of_c\"):\n",
    "    j=tf.divide(h,f)\n",
    "print(\"value c\",sess.run(j))\n",
    "\n",
    "\n",
    "#m value\n",
    "with tf.name_scope(\"value_m\"):\n",
    "    i=tf.multiply(j,x)\n",
    "    k=tf.subtract(y,i)\n",
    "print(\"value m\",sess.run(j))\n",
    "\n",
    "\n",
    "#calculate root mean square error\n",
    "\n",
    "with tf.name_scope(\"rmse\"):\n",
    "    l=tf.subtract(b,y)\n",
    "    m=tf.multiply(l,l)\n",
    "    n=tf.reduce_sum(m)\n",
    "    o=tf.divide(n, 4,)\n",
    "    p=tf.sqrt(o)\n",
    "    print (\"rmse\",sess.run(p))\n",
    "    \n",
    "    \n",
    "with tf.Session() as lb:\n",
    "    Writer =tf.summary.FileWriter(\"/tmp/tboard/output6\",lb.graph)\n",
    "    Writer.close()"
   ]
  },
  {
   "cell_type": "code",
   "execution_count": 19,
   "metadata": {},
   "outputs": [
    {
     "name": "stdout",
     "output_type": "stream",
     "text": [
      "[3.9945836, 4.807889, 5.6211948, 6.4345002, 7.2478056]\n"
     ]
    }
   ],
   "source": [
    "#calculate y using x\n",
    "import numpy\n",
    "with tf.Session() as sess:\n",
    "    x1=sess.run(a)\n",
    "    y1=sess.run(b)\n",
    "g_x = numpy.asarray(x1)\n",
    "g_y = numpy.asarray(y1)\n",
    "\n",
    "\n",
    "\n",
    "x2=tf.constant([1.0,2.0, 3.0, 4.0, 5.0])\n",
    "with tf.Session() as sess:\n",
    "    x3=sess.run(x2)\n",
    "x4=numpy.asarray(x3)\n",
    "\n",
    "y2=[0]*5\n",
    "    \n",
    "with tf.Session() as sess:\n",
    "        for i in range(len(sess.run(x2))):\n",
    "            xx = sess.run(x2[i])\n",
    "            a=tf.multiply(xx,j)\n",
    "            b=tf.add(a,k)\n",
    "            y2[i]=sess.run(b)\n",
    "print(y2)"
   ]
  },
  {
   "cell_type": "code",
   "execution_count": 20,
   "metadata": {},
   "outputs": [
    {
     "data": {
      "image/png": "[encoded data removed]",
      "text/plain": [
       "<matplotlib.figure.Figure at 0x7f517caf3208>"
      ]
     },
     "metadata": {},
     "output_type": "display_data"
    }
   ],
   "source": [
    "\n",
    "#graph\n",
    "import matplotlib.pyplot as plt\n",
    "plt.plot(g_x,g_y, 'ro', label='Actual values')\n",
    "plt.plot(x4, y2, label='fitted line')\n",
    "plt.legend()\n",
    "plt.show()\n",
    "\n"
   ]
  },
  {
   "cell_type": "code",
   "execution_count": null,
   "metadata": {
    "collapsed": true
   },
   "outputs": [],
   "source": []
  }
 ],
 "metadata": {
  "kernelspec": {
   "display_name": "Python 3",
   "language": "python",
   "name": "python3"
  },
  "language_info": {
   "codemirror_mode": {
    "name": "ipython",
    "version": 3
   },
   "file_extension": ".py",
   "mimetype": "text/x-python",
   "name": "python",
   "nbconvert_exporter": "python",
   "pygments_lexer": "ipython3",
   "version": "3.6.1"
  }
 },
 "nbformat": 4,
 "nbformat_minor": 2
}
